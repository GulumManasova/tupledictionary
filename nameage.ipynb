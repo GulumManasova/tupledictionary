{
 "cells": [
  {
   "cell_type": "code",
   "execution_count": 6,
   "id": "b05c9cd6",
   "metadata": {},
   "outputs": [
    {
     "name": "stdout",
     "output_type": "stream",
     "text": [
      "What is the user's name?BTS\n",
      "What is the user's age?20\n",
      "what is the user's country of brith?Korea\n",
      "What is the user known for?You don't know BTS?\n",
      "{'name'} {'BTS'}\n",
      "{'age'} {'20'}\n",
      "{'country'} {'Korea'}\n",
      "{'known for'} {\"You don't know BTS?\"}\n"
     ]
    }
   ],
   "source": [
    "inuser={}\n",
    "inuser[\"name\"]=input(\"What is the user's name?\")\n",
    "inuser[\"age\"]=input(\"What is the user's age?\")\n",
    "inuser[\"country\"]=input(\"what is the user's country of brith?\")\n",
    "inuser[\"known for\"]=input(\"What is the user known for?\")\n",
    "for key, value in inuser.items():\n",
    "    print({key}, {value})"
   ]
  },
  {
   "cell_type": "code",
   "execution_count": null,
   "id": "62db95aa",
   "metadata": {},
   "outputs": [],
   "source": []
  }
 ],
 "metadata": {
  "kernelspec": {
   "display_name": "Python 3 (ipykernel)",
   "language": "python",
   "name": "python3"
  },
  "language_info": {
   "codemirror_mode": {
    "name": "ipython",
    "version": 3
   },
   "file_extension": ".py",
   "mimetype": "text/x-python",
   "name": "python",
   "nbconvert_exporter": "python",
   "pygments_lexer": "ipython3",
   "version": "3.11.5"
  }
 },
 "nbformat": 4,
 "nbformat_minor": 5
}
