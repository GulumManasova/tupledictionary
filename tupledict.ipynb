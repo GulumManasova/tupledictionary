{
 "cells": [
  {
   "cell_type": "code",
   "execution_count": 1,
   "id": "dcce34d1",
   "metadata": {},
   "outputs": [
    {
     "name": "stdout",
     "output_type": "stream",
     "text": [
      "('mother', 'father', 'sister', 'brother', 'sister')\n"
     ]
    }
   ],
   "source": [
    "myfamily=(\"mother\",\"father\",\"sister\",\"brother\",\"sister\")\n",
    "print(myfamily)"
   ]
  },
  {
   "cell_type": "code",
   "execution_count": 2,
   "id": "f1452de6",
   "metadata": {},
   "outputs": [
    {
     "name": "stdout",
     "output_type": "stream",
     "text": [
      "<class 'tuple'>\n"
     ]
    }
   ],
   "source": [
    "myfamily=(\"mother\",\"father\",\"sister\",\"brother\",\"sister\")\n",
    "print(type(myfamily))"
   ]
  },
  {
   "cell_type": "code",
   "execution_count": 3,
   "id": "720e07bf",
   "metadata": {},
   "outputs": [
    {
     "name": "stdout",
     "output_type": "stream",
     "text": [
      "sister\n",
      "sister\n"
     ]
    }
   ],
   "source": [
    "myfamily=(\"mother\",\"father\",\"sister\",\"brother\",\"sister\")\n",
    "print(myfamily[2])\n",
    "print(myfamily[4])"
   ]
  },
  {
   "cell_type": "code",
   "execution_count": 5,
   "id": "f2e0acb9",
   "metadata": {},
   "outputs": [
    {
     "name": "stdout",
     "output_type": "stream",
     "text": [
      "('mother', 'father', 'sister', 'brother', 'sister', 'me')\n"
     ]
    }
   ],
   "source": [
    "myfamily=(\"mother\",\"father\",\"sister\",\"brother\",\"sister\")\n",
    "y=list(myfamily)\n",
    "y.append(\"me\")\n",
    "y=tuple(y)\n",
    "print(y)"
   ]
  },
  {
   "cell_type": "code",
   "execution_count": 7,
   "id": "677c05cd",
   "metadata": {},
   "outputs": [
    {
     "name": "stdout",
     "output_type": "stream",
     "text": [
      "('mother', 'father', 'sister', 'sister')\n"
     ]
    }
   ],
   "source": [
    "myfamily=(\"mother\",\"father\",\"sister\",\"brother\",\"sister\")\n",
    "y=list(myfamily)\n",
    "y.pop(3)\n",
    "y=tuple(y)\n",
    "print(y)"
   ]
  },
  {
   "cell_type": "code",
   "execution_count": null,
   "id": "cfdcf8ff",
   "metadata": {},
   "outputs": [],
   "source": []
  }
 ],
 "metadata": {
  "kernelspec": {
   "display_name": "Python 3 (ipykernel)",
   "language": "python",
   "name": "python3"
  },
  "language_info": {
   "codemirror_mode": {
    "name": "ipython",
    "version": 3
   },
   "file_extension": ".py",
   "mimetype": "text/x-python",
   "name": "python",
   "nbconvert_exporter": "python",
   "pygments_lexer": "ipython3",
   "version": "3.11.5"
  }
 },
 "nbformat": 4,
 "nbformat_minor": 5
}
