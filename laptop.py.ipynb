{
 "cells": [
  {
   "cell_type": "code",
   "execution_count": 1,
   "id": "29a4836c",
   "metadata": {},
   "outputs": [
    {
     "name": "stdout",
     "output_type": "stream",
     "text": [
      "{'brand': 'dell', 'model': 'alienware', 'year': 2010}\n"
     ]
    }
   ],
   "source": [
    "laptop = { \"brand\": \"dell\", \"model\": \"alienware\", \"year\": 2010 }\n",
    "print(laptop)"
   ]
  },
  {
   "cell_type": "code",
   "execution_count": 2,
   "id": "0b8647dd",
   "metadata": {},
   "outputs": [
    {
     "name": "stdout",
     "output_type": "stream",
     "text": [
      "dell\n"
     ]
    }
   ],
   "source": [
    "laptop = { \"brand\": \"dell\", \"model\": \"alienware\", \"year\": 2010 }\n",
    "print(laptop[\"brand\"])"
   ]
  },
  {
   "cell_type": "code",
   "execution_count": 3,
   "id": "3927fff5",
   "metadata": {},
   "outputs": [
    {
     "name": "stdout",
     "output_type": "stream",
     "text": [
      "{'brand': 'dell', 'model': 'alienware', 'year': 2010, 'home': True}\n"
     ]
    }
   ],
   "source": [
    "laptop = { \"brand\": \"dell\", \"model\": \"alienware\", \"year\": 2010 }\n",
    "laptop[\"home\"]=True\n",
    "print(laptop)"
   ]
  },
  {
   "cell_type": "code",
   "execution_count": 4,
   "id": "369e8c5f",
   "metadata": {},
   "outputs": [
    {
     "name": "stdout",
     "output_type": "stream",
     "text": [
      "{'brand': 'dell', 'model': 'alienware', 'year': 2019}\n"
     ]
    }
   ],
   "source": [
    "laptop = { \"brand\": \"dell\", \"model\": \"alienware\", \"year\": 2010 }\n",
    "laptop[\"year\"]=2019\n",
    "print(laptop)"
   ]
  },
  {
   "cell_type": "code",
   "execution_count": null,
   "id": "dfe5af74",
   "metadata": {},
   "outputs": [],
   "source": []
  }
 ],
 "metadata": {
  "kernelspec": {
   "display_name": "Python 3 (ipykernel)",
   "language": "python",
   "name": "python3"
  },
  "language_info": {
   "codemirror_mode": {
    "name": "ipython",
    "version": 3
   },
   "file_extension": ".py",
   "mimetype": "text/x-python",
   "name": "python",
   "nbconvert_exporter": "python",
   "pygments_lexer": "ipython3",
   "version": "3.11.5"
  }
 },
 "nbformat": 4,
 "nbformat_minor": 5
}
